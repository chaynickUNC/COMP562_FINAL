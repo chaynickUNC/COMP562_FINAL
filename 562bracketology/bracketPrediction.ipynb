{
 "cells": [
  {
   "cell_type": "code",
   "execution_count": 1,
   "metadata": {},
   "outputs": [],
   "source": [
    "import pandas as pd\n",
    "import pickle\n",
    "import numpy as np\n",
    "import csv\n",
    "\n",
    "\n",
    "df = pd.read_csv(\"NCAAGames2.csv\")\n",
    "\n",
    "instances = []\n",
    "labels = []\n",
    "\n",
    "for i in range(0, df.shape[0]):\n",
    "    instances.append(df.loc[i].tolist()[9:109])\n",
    "    labels.append(df.loc[i].tolist()[8])\n",
    "\n",
    "instances_train = instances[0:17537]\n",
    "labels_train = labels[0:17537]\n",
    "instances_test = instances[17537:len(instances)]\n",
    "labels_test = labels[17537:len(labels)]"
   ]
  },
  {
   "cell_type": "code",
   "execution_count": 2,
   "metadata": {},
   "outputs": [
    {
     "name": "stdout",
     "output_type": "stream",
     "text": [
      "0.7256960292104062\n"
     ]
    }
   ],
   "source": [
    "from sklearn.neural_network import MLPClassifier\n",
    "clf_nn = MLPClassifier(random_state=1, activation='tanh', hidden_layer_sizes=750).fit(instances_train, labels_train)\n",
    "print(clf_nn.score(instances_test, labels_test))\n",
    "#print(clf_nn.predict(np.array(instances_test[2009]).reshape(1, -1)), labels_test[2009])"
   ]
  },
  {
   "cell_type": "code",
   "execution_count": 2,
   "metadata": {},
   "outputs": [
    {
     "name": "stdout",
     "output_type": "stream",
     "text": [
      "0.7430397078959379\n"
     ]
    }
   ],
   "source": [
    "from sklearn.linear_model import LogisticRegression\n",
    "clf_lr = LogisticRegression(max_iter=900, C=0.006).fit(instances_train, labels_train)\n",
    "print(clf_lr.score(instances_test, labels_test))"
   ]
  },
  {
   "cell_type": "code",
   "execution_count": 4,
   "metadata": {},
   "outputs": [
    {
     "name": "stdout",
     "output_type": "stream",
     "text": [
      "0.6403468735737107\n"
     ]
    }
   ],
   "source": [
    "from sklearn.tree import DecisionTreeClassifier\n",
    "clf_dt = DecisionTreeClassifier().fit(instances_train, labels_train)\n",
    "print(clf_dt.score(instances_test, labels_test))"
   ]
  },
  {
   "cell_type": "code",
   "execution_count": 5,
   "metadata": {},
   "outputs": [],
   "source": [
    "def findOutcome(left, right, round = -1) -> int:\n",
    "\n",
    "   \n",
    "    res = clf_lr.predict_proba([left+right])\n",
    "    return res[0][0]\n",
    "\n",
    "\n",
    "def bracketMaker(bracket, round = 1):\n",
    "    i = 0\n",
    "    nextround = []\n",
    "    while(i < len(bracket)):\n",
    "        winner1 = findOutcome(bracket[i][1:51], bracket[i+1][1:51], round)\n",
    "        winner2 = findOutcome(bracket[i+1][1:51], bracket[i][1:51], round)\n",
    "        if winner1 > winner2:\n",
    "            winner = 0\n",
    "            print(\"team \" + bracket[i][0] + \" beats \" + bracket[i+1][0] +\" in round \" + str(round))\n",
    "        else:\n",
    "            winner = 1\n",
    "            print(\"team \" + bracket[i+1][0] + \" beats \" +  bracket[i][0] +\" in round \" + str(round))\n",
    "        if (winner == 0):\n",
    "            nextround.append(bracket[i])\n",
    "        else:\n",
    "            nextround.append(bracket[i+1])\n",
    "        i += 2\n",
    "    if len(nextround) == 1:\n",
    "        print(nextround[0][0] + \" won it all\")\n",
    "    else:\n",
    "        print(\"========= round \" + str(round +1) + \"========\")\n",
    "        bracketMaker(nextround, round+1)\n"
   ]
  },
  {
   "cell_type": "code",
   "execution_count": 6,
   "metadata": {},
   "outputs": [
    {
     "name": "stdout",
     "output_type": "stream",
     "text": [
      "team Connecticut beats Stetson in round 1\n",
      "team Northwestern beats Florida Atlantic in round 1\n",
      "team San Diego beats UAB in round 1\n",
      "team Auburn beats Yale in round 1\n",
      "team BYU beats Dusquesne in round 1\n",
      "team Illinois beats Morehead St. in round 1\n",
      "team Washington St. beats Drake in round 1\n",
      "team Iowa St. beats South Dakota St. in round 1\n",
      "team North Carolina beats Wagner in round 1\n",
      "team Michigan St. beats Mississippi St. in round 1\n",
      "team Saint Mary's beats Grand Canyon in round 1\n",
      "team Alabama beats College of Charleston in round 1\n",
      "team New Mexico beats Clemson in round 1\n",
      "team Baylor beats Colgate in round 1\n",
      "team Nevada beats Dayton in round 1\n",
      "team Arizona beats Long Beach St. in round 1\n",
      "team Houston beats Longwood in round 1\n",
      "team Texas A&M beats Nebraska in round 1\n",
      "team Wisconsin beats James Madison in round 1\n",
      "team Duke beats Vermont in round 1\n",
      "team Texas Tech beats North Carolina St. in round 1\n",
      "team Kentucky beats Oakland in round 1\n",
      "team Florida beats Colorado in round 1\n",
      "team Marquette beats Western Ky. in round 1\n",
      "team Purdue beats Grambling St. in round 1\n",
      "team TCU beats Utah st in round 1\n",
      "team Gonzaga beats McNeese in round 1\n",
      "team Kansas beats Samford in round 1\n",
      "team Oregon beats South Carolina in round 1\n",
      "team Creighton beats Akron in round 1\n",
      "team Texas beats Colorado St. in round 1\n",
      "team Tennessee beats Saint Peter's in round 1\n",
      "========= round 2========\n",
      "team Connecticut beats Northwestern in round 2\n",
      "team San Diego beats Auburn in round 2\n",
      "team Illinois beats BYU in round 2\n",
      "team Iowa St. beats Washington St. in round 2\n",
      "team North Carolina beats Michigan St. in round 2\n",
      "team Alabama beats Saint Mary's in round 2\n",
      "team Baylor beats New Mexico in round 2\n",
      "team Arizona beats Nevada in round 2\n",
      "team Houston beats Texas A&M in round 2\n",
      "team Duke beats Wisconsin in round 2\n",
      "team Kentucky beats Texas Tech in round 2\n",
      "team Marquette beats Florida in round 2\n",
      "team Purdue beats TCU in round 2\n",
      "team Gonzaga beats Kansas in round 2\n",
      "team Creighton beats Oregon in round 2\n",
      "team Texas beats Tennessee in round 2\n",
      "========= round 3========\n",
      "team Connecticut beats San Diego in round 3\n",
      "team Iowa St. beats Illinois in round 3\n",
      "team Alabama beats North Carolina in round 3\n",
      "team Arizona beats Baylor in round 3\n",
      "team Houston beats Duke in round 3\n",
      "team Marquette beats Kentucky in round 3\n",
      "team Purdue beats Gonzaga in round 3\n",
      "team Texas beats Creighton in round 3\n",
      "========= round 4========\n",
      "team Connecticut beats Iowa St. in round 4\n",
      "team Alabama beats Arizona in round 4\n",
      "team Houston beats Marquette in round 4\n",
      "team Purdue beats Texas in round 4\n",
      "========= round 5========\n",
      "team Connecticut beats Alabama in round 5\n",
      "team Purdue beats Houston in round 5\n",
      "========= round 6========\n",
      "team Connecticut beats Purdue in round 6\n",
      "Connecticut won it all\n"
     ]
    }
   ],
   "source": [
    "data23 =   pd.read_csv(\"marchmadness23.csv\")\n",
    "mm23Teams = [] \n",
    "seeds23 = []\n",
    "nums = []\n",
    "\n",
    "for i in range(0, data23.shape[0]):\n",
    "    mm23Teams.append(data23.loc[i].tolist())\n",
    "\n",
    "\n",
    "\n",
    "for i in range(0,64):\n",
    "    seeds23.append(mm23Teams[i][0])\n",
    "    nums.append(i)\n",
    "\n",
    "bracketMaker(mm23Teams)"
   ]
  }
 ],
 "metadata": {
  "kernelspec": {
   "display_name": "Python 3",
   "language": "python",
   "name": "python3"
  },
  "language_info": {
   "codemirror_mode": {
    "name": "ipython",
    "version": 3
   },
   "file_extension": ".py",
   "mimetype": "text/x-python",
   "name": "python",
   "nbconvert_exporter": "python",
   "pygments_lexer": "ipython3",
   "version": "3.12.0"
  }
 },
 "nbformat": 4,
 "nbformat_minor": 2
}
